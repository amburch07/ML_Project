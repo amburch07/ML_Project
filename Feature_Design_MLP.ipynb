{
 "cells": [
  {
   "cell_type": "code",
   "execution_count": 1,
   "metadata": {
    "colab": {},
    "colab_type": "code",
    "id": "LUICiW8lK--5"
   },
   "outputs": [
    {
     "name": "stdout",
     "output_type": "stream",
     "text": [
      "(7352, 128)\n",
      "(7352, 128)\n",
      "(7352, 128)\n"
     ]
    }
   ],
   "source": [
    "import numpy as np\n",
    "\n",
    "# - Load training data (Total acceleration)\n",
    "\n",
    "# Importing data as numpy array \n",
    "tx_train = np.loadtxt('HARDataset/train/Inertial_Signals/total_acc_x_train.txt')\n",
    "print(np.shape(tx_train))\n",
    "\n",
    "ty_train = np.loadtxt('HARDataset/train/Inertial_Signals/total_acc_y_train.txt')\n",
    "print(np.shape(ty_train))\n",
    "\n",
    "tz_train = np.loadtxt('HARDataset/train/Inertial_Signals/total_acc_z_train.txt')\n",
    "print(np.shape(tz_train))\n",
    "\n",
    "# Each one is (7352, 128)\n",
    "\n",
    "# Cocatenate x,y,z training data together\n",
    "t_train = np.hstack((tx_train, ty_train, tz_train))\n",
    "# (7352, 384)\n",
    "\n",
    "# Load labels for training data - USE FOR ALL\n",
    "t_labelTrain = np.loadtxt('HARDataset/train/y_train.txt')\n",
    "# (7352, )\n",
    "\n",
    "# % Define sampling frequency (in Hz) \n",
    "fs = 50;"
   ]
  },
  {
   "cell_type": "code",
   "execution_count": 2,
   "metadata": {
    "colab": {},
    "colab_type": "code",
    "id": "xANNTmVuM5SR"
   },
   "outputs": [],
   "source": [
    "# - Load test data (Total acceleration)\n",
    "ax_test = np.loadtxt('HARDataset/test/Inertial_Signals/total_acc_x_test.txt')\n",
    "ay_test = np.loadtxt('HARDataset/test/Inertial_Signals/total_acc_y_test.txt')\n",
    "az_test = np.loadtxt('HARDataset/test/Inertial_Signals/total_acc_z_test.txt')\n",
    "total_test = np.concatenate((ax_test, ay_test, az_test),axis=1)\n",
    "# (2947, 384)\n",
    "\n",
    "# Load labels\n",
    "t_labelTest = np.loadtxt('HARDataset/test/y_test.txt')"
   ]
  },
  {
   "cell_type": "code",
   "execution_count": 3,
   "metadata": {
    "colab": {},
    "colab_type": "code",
    "id": "PNZAW_lgErUw"
   },
   "outputs": [],
   "source": [
    "# - Load training data (Removing body acceleration)\n",
    "\n",
    "bx_train = np.loadtxt('HARDataset/train/Inertial_Signals/body_acc_x_train.txt')\n",
    "by_train = np.loadtxt('HARDataset/train/Inertial_Signals/body_acc_y_train.txt')\n",
    "bz_train = np.loadtxt('HARDataset/train/Inertial_Signals/body_acc_z_train.txt')\n",
    "b_train = np.hstack((bx_train, by_train, bz_train))"
   ]
  },
  {
   "cell_type": "code",
   "execution_count": 4,
   "metadata": {
    "colab": {},
    "colab_type": "code",
    "id": "Qf6am_o9Eu18"
   },
   "outputs": [],
   "source": [
    "# - Load test data (Removing body acceleration)\n",
    "bx_test = np.loadtxt('HARDataset/test/Inertial_Signals/body_acc_x_test.txt')\n",
    "by_test = np.loadtxt('HARDataset/test/Inertial_Signals/body_acc_y_test.txt')\n",
    "bz_test = np.loadtxt('HARDataset/test/Inertial_Signals/body_acc_z_test.txt')\n",
    "b_test = np.hstack((bx_test, by_test, bz_test))"
   ]
  },
  {
   "cell_type": "code",
   "execution_count": 5,
   "metadata": {
    "colab": {},
    "colab_type": "code",
    "id": "QpcFSpwCGXEW"
   },
   "outputs": [],
   "source": [
    "# - Load training data (gyroscope)\n",
    "gx_train = np.loadtxt('HARDataset/train/Inertial_Signals/body_gyro_x_train.txt')\n",
    "gy_train = np.loadtxt('HARDataset/train/Inertial_Signals/body_gyro_y_train.txt')\n",
    "gz_train = np.loadtxt('HARDataset/train/Inertial_Signals/body_gyro_z_train.txt')\n",
    "g_train = np.hstack((gx_train, gy_train, gz_train))\n",
    "# (7352, 384)"
   ]
  },
  {
   "cell_type": "code",
   "execution_count": 6,
   "metadata": {
    "colab": {},
    "colab_type": "code",
    "id": "fSmEiGweGgcc"
   },
   "outputs": [],
   "source": [
    "# Load test data (gyroscope)\n",
    "gx_test = np.loadtxt('HARDataset/test/Inertial_Signals/body_gyro_x_test.txt')\n",
    "gy_test = np.loadtxt('HARDataset/test/Inertial_Signals/body_gyro_y_test.txt')\n",
    "gz_test = np.loadtxt('HARDataset/test/Inertial_Signals/body_gyro_z_test.txt')\n",
    "g_test = np.hstack((gx_test, gy_test, gz_test))\n",
    "# (2947, 384)"
   ]
  },
  {
   "cell_type": "code",
   "execution_count": 7,
   "metadata": {
    "colab": {},
    "colab_type": "code",
    "id": "MmZCs9d33et4"
   },
   "outputs": [],
   "source": [
    "# Normalize data or features\n",
    "from sklearn.preprocessing import StandardScaler\n",
    "def normData(a_train):\n",
    "    a_len = int(np.shape(a_train)[1]/4)\n",
    "    \n",
    "    #scalars to normalize\n",
    "    x_scaler = StandardScaler().fit(a_train[:,:a_len])\n",
    "    y_scaler = StandardScaler().fit(a_train[:,a_len:2*a_len])\n",
    "    z_scaler = StandardScaler().fit(a_train[:,2*a_len:3*a_len])\n",
    "    m_scaler = StandardScaler().fit(a_train[:,3*a_len:])\n",
    "    \n",
    "    #normalize training\n",
    "    x_scaler.transform(a_train[:,:a_len])\n",
    "    y_scaler.transform(a_train[:,a_len:2*a_len])\n",
    "    z_scaler.transform(a_train[:,2*a_len:3*a_len])\n",
    "    m_scaler.transform(a_train[:,3*a_len:])\n",
    "        \n",
    "    return a_train"
   ]
  },
  {
   "cell_type": "code",
   "execution_count": 8,
   "metadata": {
    "colab": {},
    "colab_type": "code",
    "id": "IU0Arbo-F2Xs"
   },
   "outputs": [],
   "source": [
    "import pandas as pd\n",
    "from scipy.stats import kurtosis\n",
    "from scipy.stats import skew\n",
    "# Copying over from Features.ipynb to get potential features - detect_peaks.py and feature_select.py\n",
    "import feature_select as fs\n",
    "from detect_peaks import detect_peaks\n",
    "\n",
    "# Use this function to extract various features (mean, stds, skews ..etc) from dataset\n",
    "# Need to pass in x's, y's, and z's from time domain\n",
    "def extractFeatures(tx, ty, tz):\n",
    "    print(tx.shape)\n",
    "    # Calculate magnitudes for time domain\n",
    "    tm = fs.calcMag(tx, ty, tz)\n",
    "\n",
    "    # Convert to frequency domain (FD) data - train only\n",
    "    freq, fx, fy, fz, fm = fs.convertFD(tx, ty, tz)\n",
    "\n",
    "    # Combine all raw data for time and frequency domain - horizontal stack \n",
    "    t_combined = np.concatenate((tx, ty, tz, tm),axis=1)\n",
    "    f_combined = np.concatenate((fx, fy, fz, fm),axis=1)\n",
    "\n",
    "    # Normalize data - time domain and frequency domain\n",
    "    # Created new function above because only doing this for train data\n",
    "    t_combined = normData(t_combined)\n",
    "    # FD\n",
    "    f_combined = normData(f_combined)\n",
    "\n",
    "    # Means and stds (TD, FD)\n",
    "    # TD\n",
    "    # Find mean and std of x, y, z, magnitude and concatenate \n",
    "    # tMus_train, tStds_train = fs.muStds(t_train)\n",
    "    axMu = np.mean(tx,axis=1)\n",
    "    ayMu = np.mean(ty,axis=1)\n",
    "    azMu = np.mean(tz,axis=1)\n",
    "    amMu = np.mean(tm,axis=1)\n",
    "    tMus = np.vstack((axMu, ayMu, azMu, amMu)).T\n",
    "    axStd = np.std(tx,axis=1)\n",
    "    ayStd = np.std(ty,axis=1)\n",
    "    azStd = np.std(tz,axis=1)\n",
    "    amStd = np.std(tm,axis=1)\n",
    "    tStds = np.vstack((axStd, ayStd, azStd, amStd)).T\n",
    "    # Normalize\n",
    "    tMus = normData(tMus)\n",
    "    tStds = normData(tStds)\n",
    "\n",
    "    #FD\n",
    "    # fMus_train, fStds_train = fs.muStds(f_train)\n",
    "    # Find mean and std  of x, y, z and concatenate \n",
    "    fxMu = np.mean(fx,axis=1)\n",
    "    fyMu = np.mean(fy,axis=1)\n",
    "    fzMu = np.mean(fz,axis=1)\n",
    "    fmMu = np.mean(fm,axis=1)\n",
    "    fMus = np.vstack((fxMu, fyMu, fzMu, fmMu)).T\n",
    "    fxStd = np.std(fx,axis=1)\n",
    "    fyStd = np.std(fy,axis=1)\n",
    "    fzStd = np.std(fz,axis=1)\n",
    "    fmStd = np.std(fm,axis=1)\n",
    "    fStds = np.vstack((fxStd, fyStd, fzStd, fmStd)).T\n",
    "    # Normalize\n",
    "    fMus = normData(fMus)\n",
    "    fStds = normData(fStds)\n",
    "\n",
    "    print(tMus.shape, tStds.shape, fMus.shape, fStds.shape)\n",
    "\n",
    "    # Skew measures asymmetry of data around mean, Kurtosis measures tail of data\n",
    "    # Skew and Kurtosis (TD, FD)\n",
    "    # TD\n",
    "    # tSks_train, tKts_train = fs.skewKurt(t_train)\n",
    "    # Find Skew & Kurtosis for x, y, z, magnitude, and concatenate \n",
    "    axSk = skew(tx,axis=1)\n",
    "    aySk = skew(ty,axis=1)\n",
    "    azSk = skew(tz,axis=1)\n",
    "    amSk = skew(tm,axis=1)\n",
    "    tSks = np.vstack((axSk, aySk, azSk, amSk)).T\n",
    "\n",
    "    axKurt = kurtosis(tx,axis=1)\n",
    "    ayKurt = kurtosis(ty,axis=1)\n",
    "    azKurt = kurtosis(tz,axis=1)\n",
    "    amKurt = kurtosis(tm,axis=1)\n",
    "    tKts = np.vstack((axKurt, ayKurt, azKurt, amKurt)).T\n",
    "\n",
    "    # Normalize\n",
    "    tSks = normData(tSks)\n",
    "    tKts = normData(tKts)\n",
    "\n",
    "    # FD\n",
    "    # fSks_train, fKts_train = fs.skewKurt(f_train)\n",
    "    faxSk = skew(fx,axis=1)\n",
    "    faySk = skew(fy,axis=1)\n",
    "    fazSk = skew(fz,axis=1)\n",
    "    famSk = skew(fm,axis=1)\n",
    "    fSks = np.vstack((faxSk, faySk, fazSk, famSk)).T\n",
    "\n",
    "    faxKurt = kurtosis(fx,axis=1)\n",
    "    fayKurt = kurtosis(fy,axis=1)\n",
    "    fazKurt = kurtosis(fz,axis=1)\n",
    "    famKurt = kurtosis(fm,axis=1)\n",
    "    fKts = np.vstack((faxKurt, fayKurt, fazKurt, famKurt)).T\n",
    "\n",
    "    # Normalize\n",
    "    fSks = normData(fSks)\n",
    "    fKts = normData(fKts)\n",
    "\n",
    "    print(tSks.shape, tKts.shape, fSks.shape, fKts.shape)\n",
    "\n",
    "    # Number of peaks and top peaks\n",
    "    # Adjust top # peaks here\n",
    "    n=3\n",
    "\n",
    "    # TD\n",
    "    tnp, tp = fs.findPeaks(t_combined,n)\n",
    "    # Normalize\n",
    "    tp = normData(tp)\n",
    "    tnp = normData(tnp)\n",
    "\n",
    "    # FD\n",
    "    fnp, fp = fs.findPeaks(f_combined,n)\n",
    "    # Normalize\n",
    "    fp = normData(fp)\n",
    "    fnp = normData(fnp)\n",
    " \n",
    "    print(tnp.shape, tp.shape, fnp.shape, fp.shape)\n",
    "\n",
    "    allFeaturesCombined = np.concatenate((tMus, tStds, fMus, fStds,\n",
    "                                   tSks, tKts, fSks, fKts,\n",
    "                                   tp, tnp, fp, fnp),axis=1)\n",
    "\n",
    "    print(allFeaturesCombined.shape)\n",
    "  \n",
    "    return allFeaturesCombined\n",
    "  "
   ]
  },
  {
   "cell_type": "code",
   "execution_count": 9,
   "metadata": {
    "colab": {
     "base_uri": "https://localhost:8080/",
     "height": 272
    },
    "colab_type": "code",
    "id": "B8IG571wCNXS",
    "outputId": "2ecf99c4-84b2-46c1-eecc-4bc482215768"
   },
   "outputs": [
    {
     "name": "stdout",
     "output_type": "stream",
     "text": [
      "(7352, 128)\n",
      "(7352, 4) (7352, 4) (7352, 4) (7352, 4)\n",
      "(7352, 4) (7352, 4) (7352, 4) (7352, 4)\n",
      "(7352, 12) (7352, 12) (7352, 12) (7352, 12)\n",
      "(7352, 80)\n",
      "80\n",
      "Index(['yStd', 'zStd', 'XNumPeaks1', 'XNumPeaks2', 'XNumPeaks3'], dtype='object')\n",
      "(7352, 5)\n",
      "(2947, 128)\n",
      "(2947, 128)\n",
      "(2947, 128)\n",
      "(2947, 128)\n",
      "(2947, 4) (2947, 4) (2947, 4) (2947, 4)\n",
      "(2947, 4) (2947, 4) (2947, 4) (2947, 4)\n",
      "(2947, 12) (2947, 12) (2947, 12) (2947, 12)\n",
      "(2947, 80)\n"
     ]
    }
   ],
   "source": [
    "# Trying to pinpoint best features with SelectKBest\n",
    "from sklearn.feature_selection import SelectKBest, f_regression\n",
    "\n",
    "total_features_train = extractFeatures(tx_train, ty_train, tz_train)\n",
    "\n",
    "# Parameters: Training data and labels\n",
    "select_features_train = SelectKBest(f_regression, k=5).fit(total_features_train, t_labelTrain)\n",
    "\n",
    "# Use .fit() above in order to use this\n",
    "featuresMask = select_features_train.get_support(indices=True)\n",
    "\n",
    "# Change this so the above function labels with dataframes!\n",
    "# Feature names to choose from - n = 3\n",
    "featureNames = ['xMean', 'yMean', 'zMean', 'magnitudeMean', 'xStd', 'yStd', 'zStd', 'magnitudeStd', \n",
    "               'xFreqMean', 'yFreqMean', 'zFreqMean', 'magnitudeFreqMean', 'xFreqStd', 'yFreqStd',\n",
    "               'zFreqStd', 'magnitudeFreqStd', 'xSkew', 'ySkew', 'zSkew', 'magnitudeSkew', 'xKurtosis',\n",
    "               'yKurtosis', 'zKurtosis', 'magnitudeKurtosis', 'xFreqSkew', 'yFreqSkew', 'zFreqSkew', \n",
    "               'magnitudeFreqSkew', 'xFreqKurtosis', 'yFreqKurtosis', 'zFreqKurtosis', \n",
    "               'magnitudeFreqKurtosis', 'XPeaks1', 'XPeaks2', 'XPeaks3', 'YPeaks1', 'YPeaks2','YPeaks3', \n",
    "               'ZPeaks1','ZPeaks2','ZPeaks3','magnitudePeaks1','magnitudePeaks2','magnitudePeaks3',\n",
    "               'XNumPeaks1', 'XNumPeaks2', 'XNumPeaks3', 'YNumPeaks1', 'YNumPeaks2','YNumPeaks3',\n",
    "               'ZNumPeaks1','ZNumPeaks2','ZNumPeaks3', 'magnitudeNumPeaks1','magnitudeNumPeaks2','magnitudeNumPeaks3',\n",
    "               'XFreqPeaks1', 'XFreqPeaks2', 'XFreqPeaks3', 'YFreqPeaks1', 'YFreqPeaks2','YFreqPeaks3',\n",
    "               'ZFreqPeaks1','ZFreqPeaks2','ZFreqPeaks3', 'magnitudeFreqPeaks1','magnitudeFreqPeaks2',\n",
    "               'magnitudeFreqPeaks3','XNumFreqPeaks1', 'XNumFreqPeaks2', 'XNumFreqPeaks3', 'YNumFreqPeaks1', 'YNumFreqPeaks2',\n",
    "               'YNumFreqPeaks3','ZNumFreqPeaks1','ZNumFreqPeaks2','ZNumFreqPeaks3', 'magnitudeFreqNumPeaks1',\n",
    "               'magnitudeFreqNumPeaks2','magnitudeFreqNumPeaks3'\n",
    "               ]\n",
    "\n",
    "print(len(featureNames))\n",
    "\n",
    "# Create dataframe out of total_features_train with featureNames\n",
    "featuresTrainDf = pd.DataFrame(data=total_features_train, columns=featureNames)\n",
    "selectedFeaturesTrainDf = featuresTrainDf[featuresTrainDf.columns[featuresMask]]\n",
    "print(featuresTrainDf.columns[featuresMask])\n",
    "print(selectedFeaturesTrainDf.shape)\n",
    "\n",
    "# Using selectk doesn't help\n",
    "selectedFeaturesTrainData = selectedFeaturesTrainDf.to_numpy()\n",
    "\n",
    "# Do the same thing with test data and use the same mask on test\n",
    "# Split up testing data\n",
    "test_len = int(np.shape(total_test)[1]/3)\n",
    "tx_test = total_test[:,:test_len]\n",
    "ty_test = total_test[:,test_len:2*test_len]\n",
    "tz_test = total_test[:,2*test_len:]\n",
    "print(tx_test.shape)\n",
    "print(ty_test.shape)\n",
    "print(tz_test.shape)\n",
    "\n",
    "total_features_test = extractFeatures(tx_test, ty_test, tz_test)\n",
    "\n",
    "featuresTestDf = pd.DataFrame(data=total_features_test, columns=featureNames)\n",
    "selectedFeaturesTestDf = featuresTestDf[featuresTestDf.columns[featuresMask]]\n",
    "\n",
    "# Using selectk doesn't help :(\n",
    "selectedFeaturesTestData = selectedFeaturesTestDf.to_numpy()\n"
   ]
  },
  {
   "cell_type": "code",
   "execution_count": 10,
   "metadata": {
    "colab": {
     "base_uri": "https://localhost:8080/",
     "height": 357
    },
    "colab_type": "code",
    "id": "1FGZrYSLYkUt",
    "outputId": "6cf337fe-cd9c-49e5-bc89-150f732ec459"
   },
   "outputs": [
    {
     "name": "stdout",
     "output_type": "stream",
     "text": [
      "(7352, 128)\n",
      "(7352, 4) (7352, 4) (7352, 4) (7352, 4)\n",
      "(7352, 4) (7352, 4) (7352, 4) (7352, 4)\n",
      "(7352, 12) (7352, 12) (7352, 12) (7352, 12)\n",
      "(7352, 80)\n",
      "(7352, 128)\n",
      "(7352, 4) (7352, 4) (7352, 4) (7352, 4)\n",
      "(7352, 4) (7352, 4) (7352, 4) (7352, 4)\n",
      "(7352, 12) (7352, 12) (7352, 12) (7352, 12)\n",
      "(7352, 80)\n",
      "(2947, 128)\n",
      "(2947, 4) (2947, 4) (2947, 4) (2947, 4)\n",
      "(2947, 4) (2947, 4) (2947, 4) (2947, 4)\n",
      "(2947, 12) (2947, 12) (2947, 12) (2947, 12)\n",
      "(2947, 80)\n",
      "(2947, 128)\n",
      "(2947, 4) (2947, 4) (2947, 4) (2947, 4)\n",
      "(2947, 4) (2947, 4) (2947, 4) (2947, 4)\n",
      "(2947, 12) (2947, 12) (2947, 12) (2947, 12)\n",
      "(2947, 80)\n"
     ]
    }
   ],
   "source": [
    "# Do same thing as above for Body Accel. and Gyroscope data\n",
    "\n",
    "bodyAcc_features_train = extractFeatures(bx_train, by_train, bz_train)\n",
    "\n",
    "gyro_features_train = extractFeatures(gx_train, gy_train, gz_train)\n",
    "\n",
    "bodyAcc_features_test = extractFeatures(bx_test, by_test, bz_test)\n",
    "\n",
    "gyro_features_test = extractFeatures(gx_test, gy_test, gz_test)\n"
   ]
  },
  {
   "cell_type": "code",
   "execution_count": 11,
   "metadata": {
    "colab": {
     "base_uri": "https://localhost:8080/",
     "height": 51
    },
    "colab_type": "code",
    "id": "GuIwxmPE3a0m",
    "outputId": "c13498a3-c279-4499-c0ab-6f896bbd3da7"
   },
   "outputs": [
    {
     "name": "stdout",
     "output_type": "stream",
     "text": [
      "(7352, 1392)\n",
      "(2947, 1392)\n"
     ]
    }
   ],
   "source": [
    "# MODEL: Concatenate every possible feature + raw FD/TD inputs (ALL)\n",
    "ev_trainALL = np.concatenate((t_train, b_train, g_train, total_features_train, bodyAcc_features_train, gyro_features_train),axis=1)\n",
    "ev_testALL = np.concatenate((total_test, b_test, g_test, total_features_test, bodyAcc_features_test, gyro_features_test),axis=1)\n",
    "\n",
    "print(ev_trainALL.shape)\n",
    "print(ev_testALL.shape)"
   ]
  },
  {
   "cell_type": "code",
   "execution_count": 12,
   "metadata": {
    "colab": {
     "base_uri": "https://localhost:8080/",
     "height": 34
    },
    "colab_type": "code",
    "id": "DQ0H2hBRPNlL",
    "outputId": "c98c6ee7-f73d-41a7-b867-dd8c00dda38a"
   },
   "outputs": [
    {
     "name": "stdout",
     "output_type": "stream",
     "text": [
      "{'activation': 'relu', 'hidden_layer_sizes': (40, 50, 50), 'solver': 'sgd'}\n"
     ]
    }
   ],
   "source": [
    "from sklearn.preprocessing import StandardScaler, PolynomialFeatures\n",
    "from sklearn.pipeline import FeatureUnion\n",
    "from sklearn.pipeline import make_pipeline\n",
    "from sklearn.decomposition import PCA\n",
    "from sklearn.feature_selection import SelectKBest\n",
    "# Testing out with Neural Networks\n",
    "from sklearn.neural_network import MLPClassifier\n",
    "from sklearn.model_selection import GridSearchCV\n",
    "\n",
    "# Testing out different varieties\n",
    "# (40,40,50)\n",
    "layerSizes = [(40,40,50), (40,50,50), (50,50,50)]\n",
    "# relu works better cause training is faster\n",
    "parameter_space = {\n",
    "    'hidden_layer_sizes': layerSizes,\n",
    "    'activation': ['relu'],\n",
    "    'solver': ['lbfgs', 'sgd'],\n",
    "}\n",
    "\n",
    "# Change training set, and testing set as needed\n",
    "\n",
    "gridSearch = GridSearchCV(MLPClassifier(), parameter_space, n_jobs=4, cv=3, refit=True, return_train_score=True)\n",
    "gridSearch.fit(ev_trainALL, t_labelTrain)\n",
    "\n",
    "print(gridSearch.best_params_)"
   ]
  },
  {
   "cell_type": "code",
   "execution_count": 13,
   "metadata": {
    "colab": {
     "base_uri": "https://localhost:8080/",
     "height": 85
    },
    "colab_type": "code",
    "id": "uV3QPgtnHbKu",
    "outputId": "2155099c-896a-4e90-d255-921e380f55ff"
   },
   "outputs": [
    {
     "name": "stdout",
     "output_type": "stream",
     "text": [
      "CPU times: user 53 s, sys: 1.98 s, total: 55 s\n",
      "Wall time: 31.2 s\n",
      "CPU times: user 94.3 ms, sys: 44.7 ms, total: 139 ms\n",
      "Wall time: 70.8 ms\n"
     ]
    }
   ],
   "source": [
    "# Use best params for MLPClassifier\n",
    "# Create pipeline\n",
    "pipeline = make_pipeline(\n",
    "                    MLPClassifier(hidden_layer_sizes=gridSearch.best_params_['hidden_layer_sizes'], \n",
    "                                  activation=gridSearch.best_params_['activation'], \n",
    "                                  solver=gridSearch.best_params_['solver']))\n",
    "\n",
    "#timing\n",
    "get_ipython().run_line_magic('time', 'pipeline.fit(ev_trainALL, t_labelTrain)')\n",
    "get_ipython().run_line_magic('time', 'y_pred = pipeline.predict(ev_testALL)')\n",
    "\n",
    "# # evaluate pipeline - insert train, label, and test data\n",
    "# y_pred = pipeline.fit(ev_trainALL, t_labelTrain).predict(ev_testALL)"
   ]
  },
  {
   "cell_type": "code",
   "execution_count": 14,
   "metadata": {
    "colab": {
     "base_uri": "https://localhost:8080/",
     "height": 291
    },
    "colab_type": "code",
    "id": "oQ1bmH-WNRVu",
    "outputId": "0c93b997-526d-4d14-c5e9-b782be8f3961"
   },
   "outputs": [
    {
     "data": {
      "image/png": "[encoded data removed]",
      "text/plain": [
       "<Figure size 432x288 with 1 Axes>"
      ]
     },
     "metadata": {},
     "output_type": "display_data"
    }
   ],
   "source": [
    "%matplotlib inline\n",
    "import seaborn as sns; sns.set()\n",
    "from sklearn.metrics import confusion_matrix\n",
    "import matplotlib.pyplot as plt\n",
    "\n",
    "mat = confusion_matrix(t_labelTest, y_pred)\n",
    "\n",
    "sns.heatmap(mat, square=True, annot=True, cbar=False)\n",
    "plt.xlabel('predicted value')\n",
    "plt.ylabel('true value');"
   ]
  },
  {
   "cell_type": "code",
   "execution_count": 15,
   "metadata": {
    "colab": {
     "base_uri": "https://localhost:8080/",
     "height": 51
    },
    "colab_type": "code",
    "id": "tK90BmCDDsj7",
    "outputId": "1c17314e-d9d4-4679-8f61-4949684c6fca"
   },
   "outputs": [
    {
     "name": "stdout",
     "output_type": "stream",
     "text": [
      "Best parameters found:\n",
      " {'activation': 'relu', 'hidden_layer_sizes': (40, 50, 50), 'solver': 'sgd'}\n"
     ]
    }
   ],
   "source": [
    "# Best parameter set\n",
    "print('Best parameters found:\\n', gridSearch.best_params_)"
   ]
  },
  {
   "cell_type": "code",
   "execution_count": 16,
   "metadata": {
    "colab": {
     "base_uri": "https://localhost:8080/",
     "height": 51
    },
    "colab_type": "code",
    "id": "9GjOgvHha3wz",
    "outputId": "6ef4a608-b778-4a08-c237-e8915f70c801"
   },
   "outputs": [
    {
     "name": "stdout",
     "output_type": "stream",
     "text": [
      "Results on the test set:\n",
      "88.49677638276214\n"
     ]
    }
   ],
   "source": [
    "from sklearn.metrics import accuracy_score\n",
    "\n",
    "print('Results on the test set:')\n",
    "print(accuracy_score(t_labelTest, y_pred) * 100)"
   ]
  },
  {
   "cell_type": "code",
   "execution_count": 17,
   "metadata": {
    "colab": {
     "base_uri": "https://localhost:8080/",
     "height": 34
    },
    "colab_type": "code",
    "id": "7K4olnbl5RGk",
    "outputId": "97b8d264-e23e-4ac5-cd83-b71818062fce"
   },
   "outputs": [
    {
     "name": "stdout",
     "output_type": "stream",
     "text": [
      "AUC: 0.887\n"
     ]
    }
   ],
   "source": [
    "from sklearn.metrics import precision_score\n",
    "\n",
    "# AUC/Precision Score\n",
    "ps = precision_score(t_labelTest, y_pred, average=\"macro\")\n",
    "print(\"AUC: %.3f\" %ps)"
   ]
  }
 ],
 "metadata": {
  "accelerator": "TPU",
  "colab": {
   "collapsed_sections": [],
   "name": "BosePA2-MLP.ipynb",
   "provenance": [],
   "version": "0.3.2"
  },
  "kernelspec": {
   "display_name": "Python 3",
   "language": "python",
   "name": "python3"
  },
  "language_info": {
   "codemirror_mode": {
    "name": "ipython",
    "version": 3
   },
   "file_extension": ".py",
   "mimetype": "text/x-python",
   "name": "python",
   "nbconvert_exporter": "python",
   "pygments_lexer": "ipython3",
   "version": "3.7.3"
  }
 },
 "nbformat": 4,
 "nbformat_minor": 1
}
